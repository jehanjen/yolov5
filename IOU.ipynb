{
 "cells": [
  {
   "cell_type": "code",
   "execution_count": 1,
   "metadata": {},
   "outputs": [
    {
     "name": "stdout",
     "output_type": "stream",
     "text": [
      "ok\n"
     ]
    }
   ],
   "source": [
    "print('ok')"
   ]
  },
  {
   "cell_type": "code",
   "execution_count": 1,
   "metadata": {},
   "outputs": [],
   "source": [
    "import numpy as np"
   ]
  },
  {
   "cell_type": "code",
   "execution_count": 25,
   "metadata": {},
   "outputs": [
    {
     "name": "stdout",
     "output_type": "stream",
     "text": [
      "[[0 0 0 0 0 0 0 0 0]\n",
      " [1 0 0 0 0 0 0 0 0]\n",
      " [1 0 0 0 0 0 0 0 0]\n",
      " [1 0 0 0 0 0 0 0 0]\n",
      " [1 0 0 0 0 0 0 0 0]\n",
      " [1 0 0 0 0 0 0 0 0]] [1 0 0 0 0 0 0 0 0 0 0 0 0 0 0 0 0 0 0 0 0 0 0 0 0 0 0 0 0 0 0 0 0 0 0 0]\n"
     ]
    },
    {
     "name": "stderr",
     "output_type": "stream",
     "text": [
      "C:\\Users\\jen_bim-y\\AppData\\Local\\Temp\\ipykernel_9852\\1318224686.py:8: DeprecationWarning: loadtxt(): Parsing an integer via a float is deprecated.  To avoid this warning, you can:\n",
      "    * make sure the original data is stored as integers.\n",
      "    * use the `converters=` keyword argument.  If you only use\n",
      "      NumPy 1.23 or later, `converters=float` will normally work.\n",
      "    * Use `np.loadtxt(...).astype(np.int64)` parsing the file as\n",
      "      floating point and then convert it.  (On all NumPy versions.)\n",
      "  (Deprecated NumPy 1.23)\n",
      "  gt_mask = np.loadtxt(data_gt, dtype=np.int32 )\n",
      "C:\\Users\\jen_bim-y\\AppData\\Local\\Temp\\ipykernel_9852\\1318224686.py:9: DeprecationWarning: loadtxt(): Parsing an integer via a float is deprecated.  To avoid this warning, you can:\n",
      "    * make sure the original data is stored as integers.\n",
      "    * use the `converters=` keyword argument.  If you only use\n",
      "      NumPy 1.23 or later, `converters=float` will normally work.\n",
      "    * Use `np.loadtxt(...).astype(np.int64)` parsing the file as\n",
      "      floating point and then convert it.  (On all NumPy versions.)\n",
      "  (Deprecated NumPy 1.23)\n",
      "  pred_mask  = np.loadtxt(pred_mask, dtype=np.int32 )\n"
     ]
    }
   ],
   "source": [
    "import numpy as np\n",
    "\n",
    "# Set the file path\n",
    "data_gt = r'C:\\Users\\jen_bim-y\\Desktop\\Desktop\\test_IOU\\4e670b56-00082-pano1.txt'\n",
    "pred_mask  = r'C:\\Users\\jen_bim-y\\Desktop\\Desktop\\test_IOU\\4e670b56-00082-pano.txt'\n",
    "\n",
    "# Load the file as a numpy array\n",
    "gt_mask = np.loadtxt(data_gt, dtype=np.int32 )\n",
    "pred_mask  = np.loadtxt(pred_mask, dtype=np.int32 )\n",
    "\n",
    "# Print the resulting numpy array\n",
    "print(gt_mask , pred_mask  )\n"
   ]
  },
  {
   "cell_type": "code",
   "execution_count": 26,
   "metadata": {},
   "outputs": [],
   "source": [
    "pred_mask = np.resize(pred_mask, gt_mask.shape)"
   ]
  },
  {
   "cell_type": "code",
   "execution_count": 27,
   "metadata": {},
   "outputs": [],
   "source": [
    "# Compute confusion matrix\n",
    "num_classes = np.max(gt_mask) + 1\n",
    "confusion_matrix = np.bincount(num_classes * gt_mask.ravel() + pred_mask.ravel(), minlength=num_classes**2).reshape(num_classes, num_classes)\n"
   ]
  },
  {
   "cell_type": "code",
   "execution_count": 28,
   "metadata": {},
   "outputs": [],
   "source": [
    "# Compute IoU for each class\n",
    "iou = np.diag(confusion_matrix) / (np.sum(confusion_matrix, axis=1) + np.sum(confusion_matrix, axis=0) - np.diag(confusion_matrix))\n"
   ]
  },
  {
   "cell_type": "code",
   "execution_count": 29,
   "metadata": {},
   "outputs": [],
   "source": [
    "mean_iou = np.mean(iou)"
   ]
  },
  {
   "cell_type": "code",
   "execution_count": 30,
   "metadata": {},
   "outputs": [
    {
     "name": "stdout",
     "output_type": "stream",
     "text": [
      "0.5361635220125787\n"
     ]
    }
   ],
   "source": [
    "print(mean_iou)"
   ]
  },
  {
   "attachments": {},
   "cell_type": "markdown",
   "metadata": {},
   "source": [
    "# IOU with different txt"
   ]
  },
  {
   "cell_type": "code",
   "execution_count": 28,
   "metadata": {},
   "outputs": [
    {
     "name": "stdout",
     "output_type": "stream",
     "text": [
      "[[0.         0.45208655 0.51313756 0.48145286 0.51313756 0.48299845\n",
      "  0.61514683 0.45904173 0.6244204 ]\n",
      " [1.         0.36553323 0.27357032 0.39103555 0.26893354 0.40417311\n",
      "  0.29057187 0.38176198 0.30911901]\n",
      " [1.         0.10896445 0.16692427 0.16460587 0.12055641 0.17697063\n",
      "  0.187017   0.13678516 0.20710974]\n",
      " [1.         0.58809892 0.3137558  0.60587326 0.29366306 0.61746522\n",
      "  0.31066461 0.60432767 0.3431221 ]\n",
      " [1.         0.73956723 0.26893354 0.76275116 0.26893354 0.77047913\n",
      "  0.2488408  0.74188563 0.23493045]\n",
      " [1.         0.85394127 0.32612056 0.86398764 0.34003091 0.87712519\n",
      "  0.32457496 0.86553323 0.30448223]]\n",
      "[1 1 1 1 1]\n"
     ]
    }
   ],
   "source": [
    "import numpy as np\n",
    "\n",
    "# Set the file path\n",
    "data_gt = r'C:\\Users\\jen_bim-y\\Desktop\\Desktop\\test_IOU\\New\\4e670b56-00082-pano.txt'\n",
    "pred_mask  = r'C:\\Users\\jen_bim-y\\Desktop\\Desktop\\test_IOU\\New\\00735-pano.txt'\n",
    "\n",
    "# Load the file as a numpy array\n",
    "gt_mask = np.loadtxt(data_gt )\n",
    "pred_mask  = np.loadtxt(pred_mask, usecols=(0,),dtype=np.int32)\n",
    "print(gt_mask)\n",
    "print(pred_mask)"
   ]
  },
  {
   "cell_type": "code",
   "execution_count": 6,
   "metadata": {},
   "outputs": [
    {
     "name": "stdout",
     "output_type": "stream",
     "text": [
      "[[0.         0.45208655 0.51313756 0.48145286 0.51313756 0.48299845\n",
      "  0.61514683 0.45904173 0.6244204 ]\n",
      " [1.         0.36553323 0.27357032 0.39103555 0.26893354 0.40417311\n",
      "  0.29057187 0.38176198 0.30911901]\n",
      " [1.         0.10896445 0.16692427 0.16460587 0.12055641 0.17697063\n",
      "  0.187017   0.13678516 0.20710974]\n",
      " [1.         0.58809892 0.3137558  0.60587326 0.29366306 0.61746522\n",
      "  0.31066461 0.60432767 0.3431221 ]\n",
      " [1.         0.73956723 0.26893354 0.76275116 0.26893354 0.77047913\n",
      "  0.2488408  0.74188563 0.23493045]\n",
      " [1.         0.85394127 0.32612056 0.86398764 0.34003091 0.87712519\n",
      "  0.32457496 0.86553323 0.30448223]]\n",
      "[1 1 1 1 1]\n"
     ]
    }
   ],
   "source": [
    "import numpy as np\n",
    "\n",
    "# Set the file path\n",
    "data_gt = r'C:\\Users\\jen_bim-y\\Desktop\\Desktop\\test_IOU\\New\\4e670b56-00082-pano.txt'\n",
    "pred_mask  = r'C:\\Users\\jen_bim-y\\Desktop\\Desktop\\test_IOU\\New\\00735-pano.txt'\n",
    "\n",
    "# Load the file as a numpy array\n",
    "gt_mask = np.loadtxt(data_gt )\n",
    "pred_mask  = np.loadtxt(pred_mask, usecols=(0,),dtype=np.int32)\n",
    "print(gt_mask)\n",
    "print(pred_mask)\n"
   ]
  },
  {
   "cell_type": "code",
   "execution_count": 8,
   "metadata": {},
   "outputs": [
    {
     "name": "stdout",
     "output_type": "stream",
     "text": [
      "[0.         0.09259259]\n"
     ]
    },
    {
     "name": "stderr",
     "output_type": "stream",
     "text": [
      "C:\\Users\\jen_bim-y\\AppData\\Local\\Temp\\ipykernel_15124\\1655618203.py:8: DeprecationWarning: loadtxt(): Parsing an integer via a float is deprecated.  To avoid this warning, you can:\n",
      "    * make sure the original data is stored as integers.\n",
      "    * use the `converters=` keyword argument.  If you only use\n",
      "      NumPy 1.23 or later, `converters=float` will normally work.\n",
      "    * Use `np.loadtxt(...).astype(np.int64)` parsing the file as\n",
      "      floating point and then convert it.  (On all NumPy versions.)\n",
      "  (Deprecated NumPy 1.23)\n",
      "  gt_mask = np.loadtxt(data_gt, dtype=np.int32 )\n"
     ]
    }
   ],
   "source": [
    "import numpy as np\n",
    "\n",
    "# Set the file path\n",
    "data_gt = r'C:\\Users\\jen_bim-y\\Desktop\\Desktop\\test_IOU\\New\\4e670b56-00082-pano.txt'\n",
    "pred_mask  = r'C:\\Users\\jen_bim-y\\Desktop\\Desktop\\test_IOU\\New\\00735-pano.txt'\n",
    "\n",
    "# Load the file as a numpy array\n",
    "gt_mask = np.loadtxt(data_gt, dtype=np.int32 )\n",
    "pred_mask  = np.loadtxt(pred_mask, usecols=(0,), dtype=np.int32 )\n",
    "\n",
    "# Print the resulting numpy array\n",
    "pred_mask = np.resize(pred_mask, gt_mask.shape)\n",
    "# Compute confusion matrix\n",
    "num_classes = np.max(gt_mask) + 1\n",
    "confusion_matrix = np.bincount(num_classes * gt_mask.ravel() + pred_mask.ravel(), minlength=num_classes**2).reshape(num_classes, num_classes)\n",
    "# Compute IoU for each class\n",
    "mean_iou = np.diag(confusion_matrix) / (np.sum(confusion_matrix, axis=1) + np.sum(confusion_matrix, axis=0) - np.diag(confusion_matrix))\n",
    "\n",
    "print(mean_iou)"
   ]
  },
  {
   "cell_type": "code",
   "execution_count": 32,
   "metadata": {},
   "outputs": [
    {
     "name": "stdout",
     "output_type": "stream",
     "text": [
      "[nan  1.]\n",
      "[nan  1.]\n",
      "[nan  1.]\n",
      "[nan  1.]\n",
      "[0.   0.75]\n",
      "[0.   0.75]\n",
      "[0.   0.75]\n",
      "[0.   0.75]\n",
      "[0.         0.14285714]\n",
      "[0.         0.14285714]\n",
      "[0.         0.14285714]\n",
      "[0.         0.14285714]\n",
      "[nan  1.]\n",
      "[nan  1.]\n",
      "[nan  1.]\n",
      "[nan  1.]\n",
      "[nan  1.]\n",
      "[nan  1.]\n",
      "[nan  1.]\n",
      "[nan  1.]\n",
      "[0.  0.8]\n",
      "[0.  0.8]\n",
      "[0.  0.8]\n",
      "[0.  0.8]\n",
      "[0.  0.5]\n",
      "[0.  0.5]\n",
      "[0.  0.5]\n",
      "[0.  0.5]\n",
      "[nan  1.]\n",
      "[nan  1.]\n",
      "[nan  1.]\n",
      "[nan  1.]\n"
     ]
    },
    {
     "name": "stderr",
     "output_type": "stream",
     "text": [
      "C:\\Users\\jen_bim-y\\AppData\\Local\\Temp\\ipykernel_15124\\2247782915.py:21: RuntimeWarning: invalid value encountered in divide\n",
      "  mean_iou = np.diag(confusion_matrix) / (np.sum(confusion_matrix, axis=1) + np.sum(confusion_matrix, axis=0) - np.diag(confusion_matrix))\n"
     ]
    }
   ],
   "source": [
    "import numpy as np\n",
    "import os\n",
    "\n",
    "# Set the file paths for the training and test sets\n",
    "train_path = r\"C:\\Users\\jen_bim-y\\Desktop\\Desktop\\test_IOU\\train\"\n",
    "test_path = r\"C:\\Users\\jen_bim-y\\Desktop\\Desktop\\test_IOU\\test\"\n",
    "\n",
    "# Loop over the training images and compute IoU scores\n",
    "for train_image in os.listdir(train_path):\n",
    "    for test_image in os.listdir(test_path):\n",
    "        # Load the ground truth and predicted masks for the current image\n",
    "        gt_mask = np.loadtxt(os.path.join(train_path, train_image ), usecols=(0,), dtype=np.int32)\n",
    "        pred_mask = np.loadtxt(os.path.join(test_path, test_image), usecols=(0,), dtype=np.int32)\n",
    "        #print(gt_mask,pred_mask)\n",
    "        # Compute the IoU score for the current image\n",
    "        pred_mask = np.resize(pred_mask, gt_mask.shape)\n",
    "        # Compute confusion matrix\n",
    "        num_classes = np.max(gt_mask) + 1\n",
    "        confusion_matrix = np.bincount(num_classes * gt_mask.ravel() + pred_mask.ravel(), minlength=num_classes**2).reshape(num_classes, num_classes)\n",
    "        # Compute IoU for each class\n",
    "        mean_iou = np.diag(confusion_matrix) / (np.sum(confusion_matrix, axis=1) + np.sum(confusion_matrix, axis=0) - np.diag(confusion_matrix))\n",
    "\n",
    "        print(mean_iou)\n"
   ]
  },
  {
   "cell_type": "code",
   "execution_count": 30,
   "metadata": {},
   "outputs": [
    {
     "name": "stdout",
     "output_type": "stream",
     "text": [
      "[0.         0.83333333]\n",
      "[0.         0.83333333]\n",
      "[0.         0.83333333]\n",
      "[0.         0.83333333]\n",
      "[nan  1.]\n",
      "[nan  1.]\n",
      "[nan  1.]\n",
      "[nan  1.]\n",
      "[nan  1.]\n",
      "[nan  1.]\n",
      "[nan  1.]\n",
      "[nan  1.]\n",
      "[nan  1.]\n",
      "[nan  1.]\n",
      "[nan  1.]\n",
      "[nan  1.]\n",
      "[nan  1.]\n",
      "[nan  1.]\n",
      "[nan  1.]\n",
      "[nan  1.]\n",
      "[nan  1.]\n",
      "[nan  1.]\n",
      "[nan  1.]\n",
      "[nan  1.]\n",
      "[0.         0.85714286]\n",
      "[0.         0.85714286]\n",
      "[0.         0.85714286]\n",
      "[0.         0.85714286]\n",
      "[nan  1.]\n",
      "[nan  1.]\n",
      "[nan  1.]\n",
      "[nan  1.]\n"
     ]
    },
    {
     "name": "stderr",
     "output_type": "stream",
     "text": [
      "C:\\Users\\jen_bim-y\\AppData\\Local\\Temp\\ipykernel_15124\\352139809.py:21: RuntimeWarning: invalid value encountered in divide\n",
      "  mean_iou = np.diag(confusion_matrix) / (np.sum(confusion_matrix, axis=1) + np.sum(confusion_matrix, axis=0) - np.diag(confusion_matrix))\n"
     ]
    }
   ],
   "source": [
    "import numpy as np\n",
    "import os\n",
    "\n",
    "# Set the file paths for the training and test sets\n",
    "train_path = r\"C:\\Users\\jen_bim-y\\Desktop\\Desktop\\test_IOU\\train\"\n",
    "test_path = r\"C:\\Users\\jen_bim-y\\Desktop\\Desktop\\test_IOU\\test\"\n",
    "\n",
    "# Loop over the training images and compute IoU scores\n",
    "for train_image in os.listdir(train_path):\n",
    "    # Load the ground truth mask for the current training image\n",
    "    gt_mask = np.loadtxt(os.path.join(train_path, train_image), usecols=(0,), dtype=np.int32)\n",
    "    # Loop over the test images and compute IoU scores\n",
    "    for test_image in os.listdir(test_path):\n",
    "        # Load the predicted mask for the current test image\n",
    "        pred_mask = np.loadtxt(os.path.join(test_path, test_image), usecols=(0,), dtype=np.int32)\n",
    "        # Resize the predicted mask to match the ground truth mask\n",
    "        pred_mask = np.resize(pred_mask, gt_mask.shape)\n",
    "        # Compute the IoU score for the current image pair\n",
    "        num_classes = np.max(gt_mask) + 1\n",
    "        confusion_matrix = np.bincount(num_classes * gt_mask.ravel() + pred_mask.ravel(), minlength=num_classes**2).reshape(num_classes, num_classes)\n",
    "        mean_iou = np.diag(confusion_matrix) / (np.sum(confusion_matrix, axis=1) + np.sum(confusion_matrix, axis=0) - np.diag(confusion_matrix))\n",
    "        print(mean_iou)\n"
   ]
  },
  {
   "cell_type": "code",
   "execution_count": 33,
   "metadata": {},
   "outputs": [
    {
     "name": "stdout",
     "output_type": "stream",
     "text": [
      "File: 04a31e61-00071-pano.txt - 04a31e61-00071-pano.txt | Mean IoU: [nan  1.]\n",
      "File: 04a31e61-00071-pano.txt - 0cf06555-00090-pano.txt | Mean IoU: [nan  1.]\n",
      "File: 04a31e61-00071-pano.txt - 1dd55b34-00081-pano.txt | Mean IoU: [nan  1.]\n",
      "File: 04a31e61-00071-pano.txt - 2e3259a6-00004-pano.txt | Mean IoU: [nan  1.]\n",
      "File: 0cf06555-00090-pano.txt - 04a31e61-00071-pano.txt | Mean IoU: [0.   0.75]\n",
      "File: 0cf06555-00090-pano.txt - 0cf06555-00090-pano.txt | Mean IoU: [0.   0.75]\n",
      "File: 0cf06555-00090-pano.txt - 1dd55b34-00081-pano.txt | Mean IoU: [0.   0.75]\n",
      "File: 0cf06555-00090-pano.txt - 2e3259a6-00004-pano.txt | Mean IoU: [0.   0.75]\n",
      "File: 1dd55b34-00081-pano.txt - 04a31e61-00071-pano.txt | Mean IoU: [0.         0.14285714]\n",
      "File: 1dd55b34-00081-pano.txt - 0cf06555-00090-pano.txt | Mean IoU: [0.         0.14285714]\n",
      "File: 1dd55b34-00081-pano.txt - 1dd55b34-00081-pano.txt | Mean IoU: [0.         0.14285714]\n",
      "File: 1dd55b34-00081-pano.txt - 2e3259a6-00004-pano.txt | Mean IoU: [0.         0.14285714]\n",
      "File: 2e3259a6-00004-pano.txt - 04a31e61-00071-pano.txt | Mean IoU: [nan  1.]\n",
      "File: 2e3259a6-00004-pano.txt - 0cf06555-00090-pano.txt | Mean IoU: [nan  1.]\n",
      "File: 2e3259a6-00004-pano.txt - 1dd55b34-00081-pano.txt | Mean IoU: [nan  1.]\n",
      "File: 2e3259a6-00004-pano.txt - 2e3259a6-00004-pano.txt | Mean IoU: [nan  1.]\n",
      "File: 3c16a776-00057-pano.txt - 04a31e61-00071-pano.txt | Mean IoU: [nan  1.]\n",
      "File: 3c16a776-00057-pano.txt - 0cf06555-00090-pano.txt | Mean IoU: [nan  1.]\n",
      "File: 3c16a776-00057-pano.txt - 1dd55b34-00081-pano.txt | Mean IoU: [nan  1.]\n",
      "File: 3c16a776-00057-pano.txt - 2e3259a6-00004-pano.txt | Mean IoU: [nan  1.]\n",
      "File: 3d86fe27-00170-pano.txt - 04a31e61-00071-pano.txt | Mean IoU: [0.  0.8]\n",
      "File: 3d86fe27-00170-pano.txt - 0cf06555-00090-pano.txt | Mean IoU: [0.  0.8]\n",
      "File: 3d86fe27-00170-pano.txt - 1dd55b34-00081-pano.txt | Mean IoU: [0.  0.8]\n",
      "File: 3d86fe27-00170-pano.txt - 2e3259a6-00004-pano.txt | Mean IoU: [0.  0.8]\n",
      "File: 3f2adfaf-00093-pano.txt - 04a31e61-00071-pano.txt | Mean IoU: [0.  0.5]\n",
      "File: 3f2adfaf-00093-pano.txt - 0cf06555-00090-pano.txt | Mean IoU: [0.  0.5]\n",
      "File: 3f2adfaf-00093-pano.txt - 1dd55b34-00081-pano.txt | Mean IoU: [0.  0.5]\n",
      "File: 3f2adfaf-00093-pano.txt - 2e3259a6-00004-pano.txt | Mean IoU: [0.  0.5]\n",
      "File: 4c1b074b-00003-pano.txt - 04a31e61-00071-pano.txt | Mean IoU: [nan  1.]\n",
      "File: 4c1b074b-00003-pano.txt - 0cf06555-00090-pano.txt | Mean IoU: [nan  1.]\n",
      "File: 4c1b074b-00003-pano.txt - 1dd55b34-00081-pano.txt | Mean IoU: [nan  1.]\n",
      "File: 4c1b074b-00003-pano.txt - 2e3259a6-00004-pano.txt | Mean IoU: [nan  1.]\n"
     ]
    },
    {
     "name": "stderr",
     "output_type": "stream",
     "text": [
      "C:\\Users\\jen_bim-y\\AppData\\Local\\Temp\\ipykernel_15124\\284545094.py:21: RuntimeWarning: invalid value encountered in divide\n",
      "  mean_iou = np.diag(confusion_matrix) / (np.sum(confusion_matrix, axis=1) + np.sum(confusion_matrix, axis=0) - np.diag(confusion_matrix))\n"
     ]
    }
   ],
   "source": [
    "import numpy as np\n",
    "import os\n",
    "\n",
    "# Set the file paths for the training and test sets\n",
    "train_path = r\"C:\\Users\\jen_bim-y\\Desktop\\Desktop\\test_IOU\\train\"\n",
    "test_path = r\"C:\\Users\\jen_bim-y\\Desktop\\Desktop\\test_IOU\\test\"\n",
    "\n",
    "# Loop over the training images and compute IoU scores\n",
    "for train_image in os.listdir(train_path):\n",
    "    for test_image in os.listdir(test_path):\n",
    "        # Load the ground truth and predicted masks for the current image\n",
    "        gt_mask = np.loadtxt(os.path.join(train_path, train_image ), usecols=(0,), dtype=np.int32)\n",
    "        pred_mask = np.loadtxt(os.path.join(test_path, test_image), usecols=(0,), dtype=np.int32)\n",
    "        \n",
    "        # Compute the IoU score for the current image\n",
    "        pred_mask = np.resize(pred_mask, gt_mask.shape)\n",
    "        # Compute confusion matrix\n",
    "        num_classes = np.max(gt_mask) + 1\n",
    "        confusion_matrix = np.bincount(num_classes * gt_mask.ravel() + pred_mask.ravel(), minlength=num_classes**2).reshape(num_classes, num_classes)\n",
    "        # Compute IoU for each class\n",
    "        mean_iou = np.diag(confusion_matrix) / (np.sum(confusion_matrix, axis=1) + np.sum(confusion_matrix, axis=0) - np.diag(confusion_matrix))\n",
    "        \n",
    "        # Print the file name and mean IoU score\n",
    "        print(f\"File: {train_image} - {test_image} | Mean IoU: {mean_iou}\")\n"
   ]
  },
  {
   "attachments": {},
   "cell_type": "markdown",
   "metadata": {},
   "source": [
    "### check IOU between txt for Train and Val"
   ]
  },
  {
   "cell_type": "code",
   "execution_count": 62,
   "metadata": {},
   "outputs": [
    {
     "name": "stdout",
     "output_type": "stream",
     "text": [
      "File: 04a31e61-00071-pano.txt - 04a31e61-00071-pano.txt | Mean IoU: [nan  1.]\n",
      "Class: door : nan %\n",
      "Class: light : 100.00 %\n",
      "------------------------------\n",
      "File: 04a31e61-00071-pano.txt - 0cf06555-00090-pano.txt | Mean IoU: [nan  1.]\n",
      "Class: door : nan %\n",
      "Class: light : 100.00 %\n",
      "------------------------------\n",
      "File: 04a31e61-00071-pano.txt - 1dd55b34-00081-pano.txt | Mean IoU: [nan  1.]\n",
      "Class: door : nan %\n",
      "Class: light : 100.00 %\n",
      "------------------------------\n",
      "File: 04a31e61-00071-pano.txt - 2e3259a6-00004-pano.txt | Mean IoU: [nan  1.]\n",
      "Class: door : nan %\n",
      "Class: light : 100.00 %\n",
      "------------------------------\n",
      "File: 0cf06555-00090-pano.txt - 04a31e61-00071-pano.txt | Mean IoU: [0.   0.75]\n",
      "Class: door : 0.00 %\n",
      "Class: light : 75.00 %\n",
      "------------------------------\n",
      "File: 0cf06555-00090-pano.txt - 0cf06555-00090-pano.txt | Mean IoU: [0.   0.75]\n",
      "Class: door : 0.00 %\n",
      "Class: light : 75.00 %\n",
      "------------------------------\n",
      "File: 0cf06555-00090-pano.txt - 1dd55b34-00081-pano.txt | Mean IoU: [0.   0.75]\n",
      "Class: door : 0.00 %\n",
      "Class: light : 75.00 %\n",
      "------------------------------\n",
      "File: 0cf06555-00090-pano.txt - 2e3259a6-00004-pano.txt | Mean IoU: [0.   0.75]\n",
      "Class: door : 0.00 %\n",
      "Class: light : 75.00 %\n",
      "------------------------------\n",
      "File: 1dd55b34-00081-pano.txt - 04a31e61-00071-pano.txt | Mean IoU: [0.         0.14285714]\n",
      "Class: door : 0.00 %\n",
      "Class: light : 14.29 %\n",
      "------------------------------\n",
      "File: 1dd55b34-00081-pano.txt - 0cf06555-00090-pano.txt | Mean IoU: [0.         0.14285714]\n",
      "Class: door : 0.00 %\n",
      "Class: light : 14.29 %\n",
      "------------------------------\n",
      "File: 1dd55b34-00081-pano.txt - 1dd55b34-00081-pano.txt | Mean IoU: [0.         0.14285714]\n",
      "Class: door : 0.00 %\n",
      "Class: light : 14.29 %\n",
      "------------------------------\n",
      "File: 1dd55b34-00081-pano.txt - 2e3259a6-00004-pano.txt | Mean IoU: [0.         0.14285714]\n",
      "Class: door : 0.00 %\n",
      "Class: light : 14.29 %\n",
      "------------------------------\n",
      "File: 2e3259a6-00004-pano.txt - 04a31e61-00071-pano.txt | Mean IoU: [nan  1.]\n",
      "Class: door : nan %\n",
      "Class: light : 100.00 %\n",
      "------------------------------\n",
      "File: 2e3259a6-00004-pano.txt - 0cf06555-00090-pano.txt | Mean IoU: [nan  1.]\n",
      "Class: door : nan %\n",
      "Class: light : 100.00 %\n",
      "------------------------------\n",
      "File: 2e3259a6-00004-pano.txt - 1dd55b34-00081-pano.txt | Mean IoU: [nan  1.]\n",
      "Class: door : nan %\n",
      "Class: light : 100.00 %\n",
      "------------------------------\n",
      "File: 2e3259a6-00004-pano.txt - 2e3259a6-00004-pano.txt | Mean IoU: [nan  1.]\n",
      "Class: door : nan %\n",
      "Class: light : 100.00 %\n",
      "------------------------------\n",
      "File: 3c16a776-00057-pano.txt - 04a31e61-00071-pano.txt | Mean IoU: [nan  1.]\n",
      "Class: door : nan %\n",
      "Class: light : 100.00 %\n",
      "------------------------------\n",
      "File: 3c16a776-00057-pano.txt - 0cf06555-00090-pano.txt | Mean IoU: [nan  1.]\n",
      "Class: door : nan %\n",
      "Class: light : 100.00 %\n",
      "------------------------------\n",
      "File: 3c16a776-00057-pano.txt - 1dd55b34-00081-pano.txt | Mean IoU: [nan  1.]\n",
      "Class: door : nan %\n",
      "Class: light : 100.00 %\n",
      "------------------------------\n",
      "File: 3c16a776-00057-pano.txt - 2e3259a6-00004-pano.txt | Mean IoU: [nan  1.]\n",
      "Class: door : nan %\n",
      "Class: light : 100.00 %\n",
      "------------------------------\n",
      "File: 3d86fe27-00170-pano.txt - 04a31e61-00071-pano.txt | Mean IoU: [0.  0.8]\n",
      "Class: door : 0.00 %\n",
      "Class: light : 80.00 %\n",
      "------------------------------\n",
      "File: 3d86fe27-00170-pano.txt - 0cf06555-00090-pano.txt | Mean IoU: [0.  0.8]\n",
      "Class: door : 0.00 %\n",
      "Class: light : 80.00 %\n",
      "------------------------------\n",
      "File: 3d86fe27-00170-pano.txt - 1dd55b34-00081-pano.txt | Mean IoU: [0.  0.8]\n",
      "Class: door : 0.00 %\n",
      "Class: light : 80.00 %\n",
      "------------------------------\n",
      "File: 3d86fe27-00170-pano.txt - 2e3259a6-00004-pano.txt | Mean IoU: [0.  0.8]\n",
      "Class: door : 0.00 %\n",
      "Class: light : 80.00 %\n",
      "------------------------------\n",
      "File: 3f2adfaf-00093-pano.txt - 04a31e61-00071-pano.txt | Mean IoU: [0.  0.5]\n",
      "Class: door : 0.00 %\n",
      "Class: light : 50.00 %\n",
      "------------------------------\n",
      "File: 3f2adfaf-00093-pano.txt - 0cf06555-00090-pano.txt | Mean IoU: [0.  0.5]\n",
      "Class: door : 0.00 %\n",
      "Class: light : 50.00 %\n",
      "------------------------------\n",
      "File: 3f2adfaf-00093-pano.txt - 1dd55b34-00081-pano.txt | Mean IoU: [0.  0.5]\n",
      "Class: door : 0.00 %\n",
      "Class: light : 50.00 %\n",
      "------------------------------\n",
      "File: 3f2adfaf-00093-pano.txt - 2e3259a6-00004-pano.txt | Mean IoU: [0.  0.5]\n",
      "Class: door : 0.00 %\n",
      "Class: light : 50.00 %\n",
      "------------------------------\n",
      "File: 4c1b074b-00003-pano.txt - 04a31e61-00071-pano.txt | Mean IoU: [nan  1.]\n",
      "Class: door : nan %\n",
      "Class: light : 100.00 %\n",
      "------------------------------\n",
      "File: 4c1b074b-00003-pano.txt - 0cf06555-00090-pano.txt | Mean IoU: [nan  1.]\n",
      "Class: door : nan %\n",
      "Class: light : 100.00 %\n",
      "------------------------------\n",
      "File: 4c1b074b-00003-pano.txt - 1dd55b34-00081-pano.txt | Mean IoU: [nan  1.]\n",
      "Class: door : nan %\n",
      "Class: light : 100.00 %\n",
      "------------------------------\n",
      "File: 4c1b074b-00003-pano.txt - 2e3259a6-00004-pano.txt | Mean IoU: [nan  1.]\n",
      "Class: door : nan %\n",
      "Class: light : 100.00 %\n",
      "------------------------------\n"
     ]
    },
    {
     "name": "stderr",
     "output_type": "stream",
     "text": [
      "C:\\Users\\jen_bim-y\\AppData\\Local\\Temp\\ipykernel_13628\\1639976675.py:22: RuntimeWarning: invalid value encountered in divide\n",
      "  mean_iou = np.diag(confusion_matrix) / (np.sum(confusion_matrix, axis=1) + np.sum(confusion_matrix, axis=0) - np.diag(confusion_matrix))\n"
     ]
    }
   ],
   "source": [
    "import numpy as np\n",
    "import os\n",
    "\n",
    "# Set the file paths for the training and test sets\n",
    "train_path = r\"C:\\Users\\jen_bim-y\\Desktop\\Desktop\\test_IOU\\train\"\n",
    "test_path = r\"C:\\Users\\jen_bim-y\\Desktop\\Desktop\\test_IOU\\test\"\n",
    "\n",
    "# Loop over the training images and compute IoU scores\n",
    "for train_image in os.listdir(train_path):\n",
    "    for test_image in os.listdir(test_path):\n",
    "        # Load the ground truth and predicted masks for the current image\n",
    "        gt_mask = np.loadtxt(os.path.join(train_path, train_image ), usecols=(0,), dtype=np.int32)\n",
    "        pred_mask = np.loadtxt(os.path.join(test_path, test_image), usecols=(0,), dtype=np.int32)\n",
    "        \n",
    "        # Compute the IoU score for the current image\n",
    "        pred_mask = np.resize(pred_mask, gt_mask.shape)\n",
    "        # Compute confusion matrix\n",
    "        class_names = ['door', 'light']\n",
    "        num_classes = np.max(gt_mask) + 1\n",
    "        confusion_matrix = np.bincount(num_classes * gt_mask.ravel() + pred_mask.ravel(), minlength=num_classes**2).reshape(num_classes, num_classes)\n",
    "        # Compute IoU for each class\n",
    "        mean_iou = np.diag(confusion_matrix) / (np.sum(confusion_matrix, axis=1) + np.sum(confusion_matrix, axis=0) - np.diag(confusion_matrix))\n",
    "        #for i, iou in enumerate(mean_iou):\n",
    "        #    print(f\"Class: {class_names[i]} | Mean IoU: {iou*100:.2f}%\")\n",
    "        # Print the file name and mean IoU score\n",
    "        # Loop over the mean IoU scores for each class\n",
    "        #print(f\"File: {train_image} - {test_image}\")\n",
    "        print(f\"File: {train_image} - {test_image} | Mean IoU: {mean_iou}\")\n",
    "        for i, iou_score in enumerate(mean_iou):\n",
    "            #print(f\"Class {i}: {iou_score * 100:.2f}%\")\n",
    "            print(f\"Class: {class_names[i]} : {iou_score * 100:.2f} %\")\n",
    "            #print(f\"Class: {class_names[i]} | Mean IoU: {iou*100:.2f}%\")\n",
    "        print('------------------------------')\n"
   ]
  },
  {
   "cell_type": "code",
   "execution_count": null,
   "metadata": {},
   "outputs": [],
   "source": []
  }
 ],
 "metadata": {
  "kernelspec": {
   "display_name": "bim-y",
   "language": "python",
   "name": "python3"
  },
  "language_info": {
   "codemirror_mode": {
    "name": "ipython",
    "version": 3
   },
   "file_extension": ".py",
   "mimetype": "text/x-python",
   "name": "python",
   "nbconvert_exporter": "python",
   "pygments_lexer": "ipython3",
   "version": "3.8.15"
  },
  "orig_nbformat": 4
 },
 "nbformat": 4,
 "nbformat_minor": 2
}
